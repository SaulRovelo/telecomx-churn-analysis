{
  "cells": [
    {
      "cell_type": "markdown",
      "metadata": {
        "id": "4foVEKhrlqcH"
      },
      "source": [
        "## Extracción"
      ]
    },
    {
      "cell_type": "code",
      "execution_count": 15,
      "metadata": {
        "id": "1--uPM88l7JH"
      },
      "outputs": [
        {
          "data": {
            "text/html": [
              "<div>\n",
              "<style scoped>\n",
              "    .dataframe tbody tr th:only-of-type {\n",
              "        vertical-align: middle;\n",
              "    }\n",
              "\n",
              "    .dataframe tbody tr th {\n",
              "        vertical-align: top;\n",
              "    }\n",
              "\n",
              "    .dataframe thead th {\n",
              "        text-align: right;\n",
              "    }\n",
              "</style>\n",
              "<table border=\"1\" class=\"dataframe\">\n",
              "  <thead>\n",
              "    <tr style=\"text-align: right;\">\n",
              "      <th></th>\n",
              "      <th>customerID</th>\n",
              "      <th>Churn</th>\n",
              "      <th>customer</th>\n",
              "      <th>phone</th>\n",
              "      <th>internet</th>\n",
              "      <th>account</th>\n",
              "    </tr>\n",
              "  </thead>\n",
              "  <tbody>\n",
              "    <tr>\n",
              "      <th>0</th>\n",
              "      <td>0002-ORFBO</td>\n",
              "      <td>No</td>\n",
              "      <td>{'gender': 'Female', 'SeniorCitizen': 0, 'Part...</td>\n",
              "      <td>{'PhoneService': 'Yes', 'MultipleLines': 'No'}</td>\n",
              "      <td>{'InternetService': 'DSL', 'OnlineSecurity': '...</td>\n",
              "      <td>{'Contract': 'One year', 'PaperlessBilling': '...</td>\n",
              "    </tr>\n",
              "    <tr>\n",
              "      <th>1</th>\n",
              "      <td>0003-MKNFE</td>\n",
              "      <td>No</td>\n",
              "      <td>{'gender': 'Male', 'SeniorCitizen': 0, 'Partne...</td>\n",
              "      <td>{'PhoneService': 'Yes', 'MultipleLines': 'Yes'}</td>\n",
              "      <td>{'InternetService': 'DSL', 'OnlineSecurity': '...</td>\n",
              "      <td>{'Contract': 'Month-to-month', 'PaperlessBilli...</td>\n",
              "    </tr>\n",
              "    <tr>\n",
              "      <th>2</th>\n",
              "      <td>0004-TLHLJ</td>\n",
              "      <td>Yes</td>\n",
              "      <td>{'gender': 'Male', 'SeniorCitizen': 0, 'Partne...</td>\n",
              "      <td>{'PhoneService': 'Yes', 'MultipleLines': 'No'}</td>\n",
              "      <td>{'InternetService': 'Fiber optic', 'OnlineSecu...</td>\n",
              "      <td>{'Contract': 'Month-to-month', 'PaperlessBilli...</td>\n",
              "    </tr>\n",
              "    <tr>\n",
              "      <th>3</th>\n",
              "      <td>0011-IGKFF</td>\n",
              "      <td>Yes</td>\n",
              "      <td>{'gender': 'Male', 'SeniorCitizen': 1, 'Partne...</td>\n",
              "      <td>{'PhoneService': 'Yes', 'MultipleLines': 'No'}</td>\n",
              "      <td>{'InternetService': 'Fiber optic', 'OnlineSecu...</td>\n",
              "      <td>{'Contract': 'Month-to-month', 'PaperlessBilli...</td>\n",
              "    </tr>\n",
              "    <tr>\n",
              "      <th>4</th>\n",
              "      <td>0013-EXCHZ</td>\n",
              "      <td>Yes</td>\n",
              "      <td>{'gender': 'Female', 'SeniorCitizen': 1, 'Part...</td>\n",
              "      <td>{'PhoneService': 'Yes', 'MultipleLines': 'No'}</td>\n",
              "      <td>{'InternetService': 'Fiber optic', 'OnlineSecu...</td>\n",
              "      <td>{'Contract': 'Month-to-month', 'PaperlessBilli...</td>\n",
              "    </tr>\n",
              "  </tbody>\n",
              "</table>\n",
              "</div>"
            ],
            "text/plain": [
              "   customerID Churn                                           customer  \\\n",
              "0  0002-ORFBO    No  {'gender': 'Female', 'SeniorCitizen': 0, 'Part...   \n",
              "1  0003-MKNFE    No  {'gender': 'Male', 'SeniorCitizen': 0, 'Partne...   \n",
              "2  0004-TLHLJ   Yes  {'gender': 'Male', 'SeniorCitizen': 0, 'Partne...   \n",
              "3  0011-IGKFF   Yes  {'gender': 'Male', 'SeniorCitizen': 1, 'Partne...   \n",
              "4  0013-EXCHZ   Yes  {'gender': 'Female', 'SeniorCitizen': 1, 'Part...   \n",
              "\n",
              "                                             phone  \\\n",
              "0   {'PhoneService': 'Yes', 'MultipleLines': 'No'}   \n",
              "1  {'PhoneService': 'Yes', 'MultipleLines': 'Yes'}   \n",
              "2   {'PhoneService': 'Yes', 'MultipleLines': 'No'}   \n",
              "3   {'PhoneService': 'Yes', 'MultipleLines': 'No'}   \n",
              "4   {'PhoneService': 'Yes', 'MultipleLines': 'No'}   \n",
              "\n",
              "                                            internet  \\\n",
              "0  {'InternetService': 'DSL', 'OnlineSecurity': '...   \n",
              "1  {'InternetService': 'DSL', 'OnlineSecurity': '...   \n",
              "2  {'InternetService': 'Fiber optic', 'OnlineSecu...   \n",
              "3  {'InternetService': 'Fiber optic', 'OnlineSecu...   \n",
              "4  {'InternetService': 'Fiber optic', 'OnlineSecu...   \n",
              "\n",
              "                                             account  \n",
              "0  {'Contract': 'One year', 'PaperlessBilling': '...  \n",
              "1  {'Contract': 'Month-to-month', 'PaperlessBilli...  \n",
              "2  {'Contract': 'Month-to-month', 'PaperlessBilli...  \n",
              "3  {'Contract': 'Month-to-month', 'PaperlessBilli...  \n",
              "4  {'Contract': 'Month-to-month', 'PaperlessBilli...  "
            ]
          },
          "execution_count": 15,
          "metadata": {},
          "output_type": "execute_result"
        }
      ],
      "source": [
        "# 🔧 Importar librerías necesarias\n",
        "import pandas as pd\n",
        "import requests\n",
        "import numpy as np\n",
        "\n",
        "\n",
        "# 🌐 URL de la API (archivo JSON alojado en GitHub)\n",
        "url = \"https://raw.githubusercontent.com/ingridcristh/challenge2-data-science-LATAM/main/TelecomX_Data.json\"\n",
        "\n",
        "# 📥 Obtener los datos de la API\n",
        "response = requests.get(url)\n",
        "data = response.json()\n",
        "\n",
        "# 🧾 Convertir a DataFrame\n",
        "df = pd.DataFrame(data)\n",
        "\n",
        "# 👀 Vista previa de los datos\n",
        "df.head()\n"
      ]
    },
    {
      "cell_type": "markdown",
      "metadata": {
        "id": "1lSZP8zmmGZu"
      },
      "source": [
        "## Transformación"
      ]
    },
    {
      "cell_type": "code",
      "execution_count": 16,
      "metadata": {
        "id": "bsm-WTLjmHvt"
      },
      "outputs": [
        {
          "name": "stdout",
          "output_type": "stream",
          "text": [
            "Columnas del dataset:\n",
            "['customerID', 'Churn', 'customer', 'phone', 'internet', 'account']\n",
            "\n",
            "Tipos de datos:\n",
            "customerID    object\n",
            "Churn         object\n",
            "customer      object\n",
            "phone         object\n",
            "internet      object\n",
            "account       object\n",
            "dtype: object\n",
            "#### Diccionario de datos\n",
            "\n",
            "- `customerID`: número de identificación único de cada cliente\n",
            "- `Churn`: si el cliente dejó o no la empresa\n",
            "- `gender`: género (masculino y femenino)\n",
            "- `SeniorCitizen`: información sobre si un cliente tiene o no una edad igual o mayor a 65 años\n",
            "- `Partner`: si el cliente tiene o no una pareja\n",
            "- `Dependents`: si el cliente tiene o no dependientes\n",
            "- `tenure`: meses de contrato del cliente\n",
            "- `PhoneService`: suscripción al servicio telefónico\n",
            "- `MultipleLines`: suscripción a más de una línea telefónica\n",
            "- `InternetService`: suscripción a un proveedor de internet\n",
            "- `OnlineSecurity`: suscripción adicional de seguridad en línea\n",
            "- `OnlineBackup`: suscripción adicional de respaldo en línea\n",
            "- `DeviceProtection`: suscripción adicional de protección del dispositivo\n",
            "- `TechSupport`: suscripción adicional de soporte técnico, menor tiempo de espera\n",
            "- `StreamingTV`: suscripción de televisión por cable\n",
            "- `StreamingMovies`: suscripción de streaming de películas\n",
            "- `Contract`: tipo de contrato\n",
            "- `PaperlessBilling`: si el cliente prefiere recibir la factura en línea\n",
            "- `PaymentMethod`: forma de pago\n",
            "- `Charges.Monthly`: total de todos los servicios del cliente por mes\n",
            "- `Charges.Total`: total gastado por el cliente\n"
          ]
        },
        {
          "data": {
            "text/plain": [
              "customerID                                           0002-ORFBO\n",
              "Churn                                                        No\n",
              "customer      {'gender': 'Female', 'SeniorCitizen': 0, 'Part...\n",
              "phone            {'PhoneService': 'Yes', 'MultipleLines': 'No'}\n",
              "internet      {'InternetService': 'DSL', 'OnlineSecurity': '...\n",
              "account       {'Contract': 'One year', 'PaperlessBilling': '...\n",
              "Name: 0, dtype: object"
            ]
          },
          "execution_count": 16,
          "metadata": {},
          "output_type": "execute_result"
        }
      ],
      "source": [
        "# Explorar las columnas del dataset y verificar sus tipos de datos.\n",
        "# Ver columnas disponibles\n",
        "print(\"Columnas del dataset:\")\n",
        "print(df.columns.tolist())\n",
        "\n",
        "#Consultar el diccionario para comprender mejor el significado de las variables.\n",
        "# Tipos de datos por columna\n",
        "print(\"\\nTipos de datos:\")\n",
        "print(df.dtypes)\n",
        "\n",
        "# Ver el diccionario dentro del notebook (opcional)\n",
        "with open(\"TelecomX_diccionario.md\", \"r\", encoding=\"utf-8\") as file:\n",
        "    print(file.read())\n",
        "\n",
        "#Identificar las columnas más relevantes para el análisis de evasión.\n",
        "# Revisión de un ejemplo completo para entender la estructura de columnas anidadas\n",
        "df.iloc[0]\n",
        "\n"
      ]
    },
    {
      "cell_type": "markdown",
      "metadata": {},
      "source": [
        "## Comprobación de incoherencias"
      ]
    },
    {
      "cell_type": "code",
      "execution_count": 17,
      "metadata": {},
      "outputs": [
        {
          "name": "stdout",
          "output_type": "stream",
          "text": [
            "Valores nulos por columna:\n",
            "customerID    0\n",
            "Churn         0\n",
            "customer      0\n",
            "phone         0\n",
            "internet      0\n",
            "account       0\n",
            "dtype: int64\n",
            "\n",
            "\n",
            "Cantidad de filas duplicadas: 0\n",
            "\n",
            "\n",
            "Valores únicos en 'customerID':\n",
            "['0002-ORFBO' '0003-MKNFE' '0004-TLHLJ' ... '9992-UJOEL' '9993-LHIEB'\n",
            " '9995-HOTOH']\n",
            "——————————————————————————————————————————————————\n",
            "Valores únicos en 'Churn':\n",
            "['No' 'Yes' '']\n",
            "——————————————————————————————————————————————————\n",
            "Valores únicos en 'customer':\n",
            "⚠️ Contiene diccionarios, no se puede mostrar valores únicos directamente.\n",
            "——————————————————————————————————————————————————\n",
            "Valores únicos en 'phone':\n",
            "⚠️ Contiene diccionarios, no se puede mostrar valores únicos directamente.\n",
            "——————————————————————————————————————————————————\n",
            "Valores únicos en 'internet':\n",
            "⚠️ Contiene diccionarios, no se puede mostrar valores únicos directamente.\n",
            "——————————————————————————————————————————————————\n",
            "Valores únicos en 'account':\n",
            "⚠️ Contiene diccionarios, no se puede mostrar valores únicos directamente.\n",
            "——————————————————————————————————————————————————\n"
          ]
        }
      ],
      "source": [
        "# 📌 Verificar valores nulos\n",
        "print(\"Valores nulos por columna:\")\n",
        "print(df.isnull().sum())\n",
        "print(\"\\n\")\n",
        "\n",
        "# 📌 Verificar filas duplicadas\n",
        "# Convertimos columnas con dicts a string\n",
        "df_temp = df.copy()\n",
        "for col in df_temp.columns:\n",
        "    if df_temp[col].apply(lambda x: isinstance(x, dict)).any():\n",
        "        df_temp[col] = df_temp[col].astype(str)\n",
        "\n",
        "print(\"Cantidad de filas duplicadas:\", df_temp.duplicated().sum())\n",
        "print(\"\\n\")\n",
        "\n",
        "# 📌 Verificar tipos únicos en columnas categóricas (seguro con dicts)\n",
        "for col in df.columns:\n",
        "    if df[col].dtype == 'object':\n",
        "        print(f\"Valores únicos en '{col}':\")\n",
        "        \n",
        "        # Evitar error si hay diccionarios en la columna\n",
        "        if df[col].apply(lambda x: isinstance(x, dict)).any():\n",
        "            print(\"⚠️ Contiene diccionarios, no se puede mostrar valores únicos directamente.\")\n",
        "        else:\n",
        "            print(df[col].unique())\n",
        "        \n",
        "        print(\"—\" * 50)\n"
      ]
    },
    {
      "cell_type": "code",
      "execution_count": 18,
      "metadata": {},
      "outputs": [
        {
          "name": "stdout",
          "output_type": "stream",
          "text": [
            "customerID          0\n",
            "Churn               0\n",
            "gender              0\n",
            "SeniorCitizen       0\n",
            "Partner             0\n",
            "Dependents          0\n",
            "tenure              0\n",
            "PhoneService        0\n",
            "MultipleLines       0\n",
            "InternetService     0\n",
            "OnlineSecurity      0\n",
            "OnlineBackup        0\n",
            "DeviceProtection    0\n",
            "TechSupport         0\n",
            "StreamingTV         0\n",
            "StreamingMovies     0\n",
            "Contract            0\n",
            "PaperlessBilling    0\n",
            "PaymentMethod       0\n",
            "Charges             0\n",
            "dtype: int64\n",
            "customerID          object\n",
            "Churn               object\n",
            "gender              object\n",
            "SeniorCitizen        int64\n",
            "Partner             object\n",
            "Dependents          object\n",
            "tenure               int64\n",
            "PhoneService        object\n",
            "MultipleLines       object\n",
            "InternetService     object\n",
            "OnlineSecurity      object\n",
            "OnlineBackup        object\n",
            "DeviceProtection    object\n",
            "TechSupport         object\n",
            "StreamingTV         object\n",
            "StreamingMovies     object\n",
            "Contract            object\n",
            "PaperlessBilling    object\n",
            "PaymentMethod       object\n",
            "Charges             object\n",
            "dtype: object\n"
          ]
        }
      ],
      "source": [
        "# Reemplazar valores vacíos en 'Churn' por NaN\n",
        "df['Churn'] = df['Churn'].replace('', np.nan)\n",
        "\n",
        "# Eliminar filas con 'Churn' faltante (opcional, si son pocas)\n",
        "df = df.dropna(subset=['Churn'])\n",
        "\n",
        "# Expandir columnas con diccionarios\n",
        "customer_df = df['customer'].apply(pd.Series)\n",
        "phone_df = df['phone'].apply(pd.Series)\n",
        "internet_df = df['internet'].apply(pd.Series)\n",
        "account_df = df['account'].apply(pd.Series)\n",
        "\n",
        "# Combinar con el DataFrame original\n",
        "df = pd.concat([df.drop(columns=['customer', 'phone', 'internet', 'account']),\n",
        "                customer_df, phone_df, internet_df, account_df], axis=1)\n",
        "\n",
        "# Comprobamos que ya no existan valores problemáticos\n",
        "print(df.isnull().sum())\n",
        "print(df.dtypes)\n"
      ]
    },
    {
      "cell_type": "markdown",
      "metadata": {
        "id": "6XnTC2NTmMRL"
      },
      "source": [
        "#📊 Carga y análisis"
      ]
    },
    {
      "cell_type": "code",
      "execution_count": null,
      "metadata": {
        "id": "1jgUnLqTmPdd"
      },
      "outputs": [],
      "source": []
    },
    {
      "cell_type": "markdown",
      "metadata": {
        "id": "v-WzfSvTmaw9"
      },
      "source": [
        "#📄Informe final"
      ]
    },
    {
      "cell_type": "code",
      "execution_count": null,
      "metadata": {
        "id": "XMTac0YJmeK9"
      },
      "outputs": [],
      "source": []
    }
  ],
  "metadata": {
    "colab": {
      "provenance": []
    },
    "kernelspec": {
      "display_name": "Python 3",
      "language": "python",
      "name": "python3"
    },
    "language_info": {
      "codemirror_mode": {
        "name": "ipython",
        "version": 3
      },
      "file_extension": ".py",
      "mimetype": "text/x-python",
      "name": "python",
      "nbconvert_exporter": "python",
      "pygments_lexer": "ipython3",
      "version": "3.13.6"
    }
  },
  "nbformat": 4,
  "nbformat_minor": 0
}
